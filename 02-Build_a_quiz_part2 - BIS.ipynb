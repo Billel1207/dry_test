{
 "cells": [
  {
   "cell_type": "markdown",
   "metadata": {},
   "source": [
    "# Build a quiz - Part 2"
   ]
  },
  {
   "cell_type": "markdown",
   "metadata": {},
   "source": [
    "Below is the code we wrote yesterday, that asks three questions to the user and allows up to 3 wrong answers :"
   ]
  },
  {
   "cell_type": "code",
   "execution_count": null,
   "metadata": {},
   "outputs": [],
   "source": [
    "print(\"Welcome to our quizz\")\n",
    "lives = 3\n",
    "print(\"You have {} lives.\\n\".format(lives))\n",
    "\n",
    "#Question 1:\n",
    "answer1 = input(\"combien de pole magnétique a-t-on sur terre ?\")\n",
    "print(\"Your answer :\",answer1)\n",
    "\n",
    "while answer1 !=\"2\":\n",
    "    lives-=1\n",
    "    print(\"Sorry, you have {} chances left\".format(lives))\n",
    "    if lives == 0:\n",
    "        print(\"You fail\")\n",
    "        break\n",
    "    print(\"Too bad! That is not the correct answer\")\n",
    "    answer1 = input(\"combien de pole magnétique a-t-on sur terre ?\")\n",
    "    print(\"Your answer :\",answer1)\n",
    "\n",
    "#Question 2:\n",
    "\n",
    "if lives > 0:\n",
    "    answer2 = input(\"quel est votre date de naissance ?\")\n",
    "    print(\"Your answer :\",answer2)\n",
    "\n",
    "    while answer2 !=\"1978\":\n",
    "        lives-=1\n",
    "        print(\"Sorry, you have {} chances left\".format(lives))\n",
    "        if lives == 0:\n",
    "            print(\"You fail\")\n",
    "            break\n",
    "        print(\"Too bad! That is not the correct answer\")\n",
    "        answer2 = input(\"quel est votre date de naissance ?\")\n",
    "        print(\"Your answer :\",answer2)\n",
    "\n",
    "    \n",
    "#Question 3:\n",
    "\n",
    "if lives > 0:\n",
    "    answer3 = input(\"qui est le fondateur du Spacex ?\")\n",
    "    print(\"Your answer :\",answer3)\n",
    "\n",
    "    answer3 = answer3.lower()\n",
    "    print(\"Your answer after .lower() function :\", answer3)\n",
    "\n",
    "    while answer3 != \"elon musk\":\n",
    "        lives-=1\n",
    "        print(\"Sorry, you have {} chances left\".format(lives))\n",
    "        if lives == 0:\n",
    "            print(\"You fail\")\n",
    "            break\n",
    "        print(\"Too bad! That is not the correct answer\")\n",
    "        answer3 = input(\"qui est le fondateur du Spacex ?\")\n",
    "    \n",
    "        print(\"Your answer :\", answer3)\n",
    "        answer3 = answer3.lower()\n",
    "        print(\"Your answer after .lower() function :\", answer3)\n",
    "    print(\"Well done, you have win!\")"
   ]
  },
  {
   "cell_type": "code",
   "execution_count": null,
   "metadata": {},
   "outputs": [],
   "source": []
  },
  {
   "cell_type": "code",
   "execution_count": null,
   "metadata": {},
   "outputs": [],
   "source": []
  },
  {
   "cell_type": "code",
   "execution_count": 1,
   "metadata": {
    "tags": []
   },
   "outputs": [
    {
     "name": "stdout",
     "output_type": "stream",
     "text": [
      "Welcome to our quizz!\n",
      "You have 3 lives.\n",
      "\n",
      "Question 1:\n",
      "Your answer : 3\n",
      "Sorry, you have 2 chances left\n",
      "Your answer : 2\n",
      "Question 2:\n",
      "Your answer : 1976\n",
      "Question 3:\n",
      "Your answer : steve jobs\n",
      "Sorry, you have 1 chances left\n",
      "Your answer : antoine krajnc\n",
      "Sorry, you have 0 chances left\n",
      "Oh no, you lost the quiz...\n"
     ]
    }
   ],
   "source": []
  },
  {
   "cell_type": "markdown",
   "metadata": {},
   "source": [
    "Let's refactor our quiz now that we know how to be dry.\n",
    "\n",
    "SPECs: \n",
    "\n",
    "* Your code should be DRY \n",
    "* You should use functions "
   ]
  },
  {
   "cell_type": "code",
   "execution_count": 1,
   "metadata": {},
   "outputs": [],
   "source": [
    "def DRY(nb_lives, question_sentence,right_answer):\n",
    "    if nb_lives > 0:\n",
    "        answer = input(question_sentence)\n",
    "        answer = answer.lower()\n",
    "        while answer != right_answer:\n",
    "            nb_lives-=1\n",
    "            print(\"Sorry, you have {} chances left\".format(nb_lives))\n",
    "            if nb_lives == 0:\n",
    "                print(\"You fail\")\n",
    "                break\n",
    "            print(\"Too bad! That is not the correct answer\")\n",
    "            answer = input(question_sentence)\n",
    "            answer = answer.lower()\n",
    "        print(\"Congrats {} is the right answer\".format(answer))\n",
    "    \n",
    "            "
   ]
  },
  {
   "cell_type": "code",
   "execution_count": 2,
   "metadata": {},
   "outputs": [
    {
     "name": "stdout",
     "output_type": "stream",
     "text": [
      "Congrats 2 is the right answer\n",
      "Congrats 1978 is the right answer\n",
      "Congrats elon musk is the right answer\n",
      "Well done, you have win!\n"
     ]
    }
   ],
   "source": [
    "list_ = [(\"combien de pole magnétique a-t-on sur terre ?\",\"2\"),(\"quel est votre date de naissance ?\",\"1978\"),(\"qui est le fondateur du Spacex ?\",\"elon musk\")]\n",
    "nb_lives = 3\n",
    "for question, answer in list_:\n",
    "    dry0 = DRY(nb_lives,question,answer)\n",
    "    \n",
    "if nb_lives > 0 :\n",
    "    print(\"Well done, you have win!\")"
   ]
  },
  {
   "cell_type": "code",
   "execution_count": 3,
   "metadata": {
    "tags": []
   },
   "outputs": [
    {
     "name": "stdout",
     "output_type": "stream",
     "text": [
      "Congrats 2 is the right answer\n",
      "Sorry, you have 2 chances left\n",
      "Congrats 1976 is the right answer\n",
      "Congrats elon musk is the right answer\n",
      "Well done, you have win!\n"
     ]
    }
   ],
   "source": []
  },
  {
   "cell_type": "markdown",
   "metadata": {},
   "source": [
    "The solution above is considered more readable for the following reasons :\n",
    "* the instructions that were repeated before are now encapsulated in a function\n",
    "* the questions and answers are stored in one single list\n",
    "* we use a `for` loop to execute the function for each question "
   ]
  },
  {
   "cell_type": "code",
   "execution_count": null,
   "metadata": {},
   "outputs": [],
   "source": []
  }
 ],
 "metadata": {
  "kernelspec": {
   "display_name": "Python 3.10.7 64-bit (microsoft store)",
   "language": "python",
   "name": "python3"
  },
  "language_info": {
   "codemirror_mode": {
    "name": "ipython",
    "version": 3
   },
   "file_extension": ".py",
   "mimetype": "text/x-python",
   "name": "python",
   "nbconvert_exporter": "python",
   "pygments_lexer": "ipython3",
   "version": "3.10.7"
  },
  "vscode": {
   "interpreter": {
    "hash": "40096abdad38073fd0adf65764f8ebf74e8a1cb9bfd1094a6a882613854709a8"
   }
  },
  "widgets": {
   "application/vnd.jupyter.widget-state+json": {
    "state": {},
    "version_major": 2,
    "version_minor": 0
   }
  }
 },
 "nbformat": 4,
 "nbformat_minor": 4
}
